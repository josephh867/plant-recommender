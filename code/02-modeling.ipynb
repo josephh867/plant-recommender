{
 "cells": [
  {
   "cell_type": "markdown",
   "id": "ca81afd2-3f24-4e2c-93ac-3ac042947edf",
   "metadata": {},
   "source": [
    "# Plant Recommender Project"
   ]
  },
  {
   "cell_type": "markdown",
   "id": "a792dfb2-a0d7-40df-903e-0af832718344",
   "metadata": {},
   "source": [
    "## Cluster Modeling"
   ]
  },
  {
   "cell_type": "code",
   "execution_count": null,
   "id": "ca7aaf4b-2264-4ddf-b7ac-6f87d538e33f",
   "metadata": {},
   "outputs": [],
   "source": []
  }
 ],
 "metadata": {
  "kernelspec": {
   "display_name": "Python 3",
   "language": "python",
   "name": "python3"
  },
  "language_info": {
   "codemirror_mode": {
    "name": "ipython",
    "version": 3
   },
   "file_extension": ".py",
   "mimetype": "text/x-python",
   "name": "python",
   "nbconvert_exporter": "python",
   "pygments_lexer": "ipython3",
   "version": "3.8.8"
  }
 },
 "nbformat": 4,
 "nbformat_minor": 5
}
