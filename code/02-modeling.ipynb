{
 "cells": [
  {
   "cell_type": "markdown",
   "id": "ca81afd2-3f24-4e2c-93ac-3ac042947edf",
   "metadata": {},
   "source": [
    "# Plant Recommender Project"
   ]
  },
  {
   "cell_type": "markdown",
   "id": "a792dfb2-a0d7-40df-903e-0af832718344",
   "metadata": {},
   "source": [
    "## Cluster Modeling"
   ]
  },
  {
   "cell_type": "code",
   "execution_count": 1,
   "id": "46d26407-965e-4da8-abd1-35859741f962",
   "metadata": {},
   "outputs": [],
   "source": [
    "# Imports\n",
    "import numpy as np\n",
    "import pandas as pd\n",
    "import matplotlib.pyplot as plt\n",
    "import seaborn as sns\n",
    "from sklearn.preprocessing import StandardScaler\n",
    "from sklearn.metrics import silhouette_score\n",
    "from sklearn.cluster import KMeans, DBSCAN, SpectralClustering"
   ]
  },
  {
   "cell_type": "markdown",
   "id": "03fe30ce-9511-46bc-9bf3-b0ed99e0d6c4",
   "metadata": {},
   "source": [
    "#### DBSCAN\n",
    "\n",
    "Clustering plays an important part in this project - it will provide the basis for the suggestion engine later. To create the best possible clustering model, I will need to have a rough estimate of the number of datapoint clusters. I don't intuitively know the number of clusters necessary since the data has a high degree of dimensionality, so to estimate it I will utilize `DBSCAN` clustering:"
   ]
  },
  {
   "cell_type": "code",
   "execution_count": 33,
   "id": "6044966a-2ea2-42e8-ae66-d24ebbd2a2c3",
   "metadata": {},
   "outputs": [],
   "source": [
    "# Load in the data and scale it\n",
    "df = pd.read_csv('../datasets/cleaned-data.csv')\n",
    "df.dropna(inplace=True)"
   ]
  },
  {
   "cell_type": "code",
   "execution_count": 34,
   "id": "bebfba7c-a0e5-4552-b9c9-aa5091eeeb28",
   "metadata": {},
   "outputs": [],
   "source": [
    "X = df.drop(columns=['id', 'Scientific_Name_x'])\n",
    "species = df[['id', 'Scientific_Name_x']]\n",
    "\n",
    "sc = StandardScaler()\n",
    "\n",
    "X_sc = sc.fit_transform(X)"
   ]
  },
  {
   "cell_type": "code",
   "execution_count": 25,
   "id": "bd52a341-4ada-4767-9b47-ccde1dd39d2e",
   "metadata": {},
   "outputs": [
    {
     "data": {
      "text/plain": [
       "False"
      ]
     },
     "execution_count": 25,
     "metadata": {},
     "output_type": "execute_result"
    }
   ],
   "source": [
    "X.isnull().sum().any()"
   ]
  },
  {
   "cell_type": "code",
   "execution_count": 21,
   "id": "cdce675d-d55a-4695-b306-ad45c078d65c",
   "metadata": {},
   "outputs": [
    {
     "data": {
      "text/plain": [
       "DBSCAN(eps=10, min_samples=2)"
      ]
     },
     "execution_count": 21,
     "metadata": {},
     "output_type": "execute_result"
    }
   ],
   "source": [
    "# Fit a DBSCAN model\n",
    "db = DBSCAN(eps=10, min_samples=2)\n",
    "db.fit(X_sc)"
   ]
  },
  {
   "cell_type": "code",
   "execution_count": 22,
   "id": "d2129b15-4465-41bf-a43b-2b1bdbe823e1",
   "metadata": {},
   "outputs": [
    {
     "data": {
      "text/plain": [
       "68"
      ]
     },
     "execution_count": 22,
     "metadata": {},
     "output_type": "execute_result"
    }
   ],
   "source": [
    "# Find the number of clusters and look at the silouette score\n",
    "labels = db.labels_\n",
    "n_clusters_ = len(set(labels)) - (1 if -1 in labels else 0)\n",
    "n_clusters_"
   ]
  },
  {
   "cell_type": "code",
   "execution_count": 23,
   "id": "91a458cd-b1d3-4584-b440-d4feb3c48035",
   "metadata": {},
   "outputs": [
    {
     "data": {
      "text/plain": [
       "0.1460248480136029"
      ]
     },
     "execution_count": 23,
     "metadata": {},
     "output_type": "execute_result"
    }
   ],
   "source": [
    "silhouette_score(X_sc, db.labels_)"
   ]
  },
  {
   "cell_type": "markdown",
   "id": "80286c7c-d196-4b6a-8288-6605d93cf944",
   "metadata": {},
   "source": [
    "This score is not great, but that doesn't particularly matter, as this model was instead meant to give a best estimate on the number of clusters needed to represent the data well. The `n_clusters_` of about 70 found here will be indispensable for testing other clustering models, such as KMeans.\n",
    "\n",
    "#### KMeans"
   ]
  },
  {
   "cell_type": "markdown",
   "id": "2c5a5379-cc94-422c-a5bd-b71181f408b6",
   "metadata": {},
   "source": [
    "To see if this silhouette score can be improved upon, let's try to use a KMeans clustering model:"
   ]
  },
  {
   "cell_type": "code",
   "execution_count": 24,
   "id": "92cb2458-b9fb-43d8-89b2-da7876430c01",
   "metadata": {},
   "outputs": [
    {
     "data": {
      "text/plain": [
       "KMeans(n_clusters=70, random_state=42)"
      ]
     },
     "execution_count": 24,
     "metadata": {},
     "output_type": "execute_result"
    }
   ],
   "source": [
    "km = KMeans(n_clusters=70, random_state=42)\n",
    "km.fit(X_sc)"
   ]
  },
  {
   "cell_type": "code",
   "execution_count": 25,
   "id": "0fc5bea6-dc63-410c-be3a-ee3c76f77fc9",
   "metadata": {},
   "outputs": [
    {
     "data": {
      "text/plain": [
       "0.049270928938044745"
      ]
     },
     "execution_count": 25,
     "metadata": {},
     "output_type": "execute_result"
    }
   ],
   "source": [
    "silhouette_score(X_sc, km.labels_)"
   ]
  },
  {
   "cell_type": "markdown",
   "id": "81abdb62-77c8-4b7b-957b-20a91239776f",
   "metadata": {},
   "source": [
    "This actually performed worse than the `DBSCAN` model, so I will scrap this model in favor of a better one for now.\n",
    "\n",
    "#### Spectral Clustering\n",
    "\n",
    "In pursuit of a better silhouette score, I will now try using `SpectralClustering`, another clustering model from `scikitlearn`:"
   ]
  },
  {
   "cell_type": "code",
   "execution_count": 27,
   "id": "4530db8a-c591-467d-a298-e8a11b4035cf",
   "metadata": {},
   "outputs": [
    {
     "name": "stderr",
     "output_type": "stream",
     "text": [
      "/Users/josephhicks/opt/anaconda3/lib/python3.8/site-packages/sklearn/manifold/_spectral_embedding.py:245: UserWarning: Graph is not fully connected, spectral embedding may not work as expected.\n",
      "  warnings.warn(\"Graph is not fully connected, spectral embedding\"\n",
      "/Users/josephhicks/opt/anaconda3/lib/python3.8/site-packages/sklearn/cluster/_kmeans.py:289: ConvergenceWarning: Number of distinct clusters (4) found smaller than n_clusters (70). Possibly due to duplicate points in X.\n",
      "  est = KMeans(\n"
     ]
    },
    {
     "data": {
      "text/plain": [
       "SpectralClustering(n_clusters=70)"
      ]
     },
     "execution_count": 27,
     "metadata": {},
     "output_type": "execute_result"
    }
   ],
   "source": [
    "spc = SpectralClustering(n_clusters=70)\n",
    "spc.fit(X_sc)"
   ]
  },
  {
   "cell_type": "code",
   "execution_count": 30,
   "id": "94b76fda-626c-4e10-a9d8-932958f1790f",
   "metadata": {},
   "outputs": [
    {
     "data": {
      "text/plain": [
       "0.31690229242790374"
      ]
     },
     "execution_count": 30,
     "metadata": {},
     "output_type": "execute_result"
    }
   ],
   "source": [
    "silhouette_score(X_sc, spc.labels_)\n",
    "spc.get_params"
   ]
  },
  {
   "cell_type": "markdown",
   "id": "8418957a-1969-49f9-a895-38a245ef2d78",
   "metadata": {},
   "source": [
    "This is by far the best performance I've gotten out of a clustering model thus far. Perhaps this can even be improved upon by tuning the model's hyperparameters:"
   ]
  },
  {
   "cell_type": "code",
   "execution_count": 97,
   "id": "3122e216-2f9d-4448-b7bb-a9e3873a0370",
   "metadata": {},
   "outputs": [],
   "source": [
    "# Iterate over different combinations of hyperparameters \n",
    "def spec_clustering_tuner(data, n_clusters=[6, 10], eigen_solvers=None,\n",
    "                          gammas=[1],\n",
    "                          assign_labels=None, n_inits=[10], cores=-1):\n",
    "    \"\"\"Takes in lists of hyperparameters to tune over a spectral clustering model as well as scaled data.\n",
    "       Outputs a plot of silhoutte scores against a chosen metric and the best parameters found.\n",
    "    \"\"\"\n",
    "    # Initialize empty params dict and scores list for plotting\n",
    "    params = {}\n",
    "    scores = []\n",
    "    \n",
    "    # Looping, fitting and testing a new model each iteration\n",
    "#     for label in assign_labels:\n",
    "    for gamma in gammas:\n",
    "        for cluster in n_clusters:\n",
    "            for num in n_inits:\n",
    "                model = SpectralClustering(n_clusters=cluster, gamma=gamma, n_init=num,\n",
    "                                           n_jobs=cores)\n",
    "                model.fit(data)\n",
    "                        \n",
    "                # Save the parameters used alongside the associated score\n",
    "                score = silhouette_score(data, model.labels_)\n",
    "                scores.append(score)\n",
    "                        \n",
    "                        # Make sure the loop can continue just in case two scores are identical\n",
    "                if score in params.keys():\n",
    "                    continue\n",
    "                        \n",
    "                params[score] = model.get_params\n",
    "                        \n",
    "     # Finding the best score\n",
    "    best_model_params = sorted(params.items(), reverse=True)[0]\n",
    "        \n",
    "    return best_model_params"
   ]
  },
  {
   "cell_type": "code",
   "execution_count": 47,
   "id": "df2a7c95-3442-46eb-a136-71e4493d089e",
   "metadata": {
    "collapsed": true,
    "jupyter": {
     "outputs_hidden": true
    },
    "tags": []
   },
   "outputs": [
    {
     "name": "stderr",
     "output_type": "stream",
     "text": [
      "/Users/josephhicks/opt/anaconda3/lib/python3.8/site-packages/sklearn/manifold/_spectral_embedding.py:245: UserWarning: Graph is not fully connected, spectral embedding may not work as expected.\n",
      "  warnings.warn(\"Graph is not fully connected, spectral embedding\"\n",
      "/Users/josephhicks/opt/anaconda3/lib/python3.8/site-packages/sklearn/cluster/_kmeans.py:289: ConvergenceWarning: Number of distinct clusters (4) found smaller than n_clusters (5). Possibly due to duplicate points in X.\n",
      "  est = KMeans(\n",
      "/Users/josephhicks/opt/anaconda3/lib/python3.8/site-packages/sklearn/manifold/_spectral_embedding.py:245: UserWarning: Graph is not fully connected, spectral embedding may not work as expected.\n",
      "  warnings.warn(\"Graph is not fully connected, spectral embedding\"\n",
      "/Users/josephhicks/opt/anaconda3/lib/python3.8/site-packages/sklearn/cluster/_kmeans.py:289: ConvergenceWarning: Number of distinct clusters (3) found smaller than n_clusters (5). Possibly due to duplicate points in X.\n",
      "  est = KMeans(\n",
      "/Users/josephhicks/opt/anaconda3/lib/python3.8/site-packages/sklearn/manifold/_spectral_embedding.py:245: UserWarning: Graph is not fully connected, spectral embedding may not work as expected.\n",
      "  warnings.warn(\"Graph is not fully connected, spectral embedding\"\n",
      "/Users/josephhicks/opt/anaconda3/lib/python3.8/site-packages/sklearn/cluster/_kmeans.py:289: ConvergenceWarning: Number of distinct clusters (4) found smaller than n_clusters (20). Possibly due to duplicate points in X.\n",
      "  est = KMeans(\n",
      "/Users/josephhicks/opt/anaconda3/lib/python3.8/site-packages/sklearn/manifold/_spectral_embedding.py:245: UserWarning: Graph is not fully connected, spectral embedding may not work as expected.\n",
      "  warnings.warn(\"Graph is not fully connected, spectral embedding\"\n",
      "/Users/josephhicks/opt/anaconda3/lib/python3.8/site-packages/sklearn/cluster/_kmeans.py:289: ConvergenceWarning: Number of distinct clusters (5) found smaller than n_clusters (20). Possibly due to duplicate points in X.\n",
      "  est = KMeans(\n",
      "/Users/josephhicks/opt/anaconda3/lib/python3.8/site-packages/sklearn/manifold/_spectral_embedding.py:245: UserWarning: Graph is not fully connected, spectral embedding may not work as expected.\n",
      "  warnings.warn(\"Graph is not fully connected, spectral embedding\"\n",
      "/Users/josephhicks/opt/anaconda3/lib/python3.8/site-packages/sklearn/cluster/_kmeans.py:289: ConvergenceWarning: Number of distinct clusters (5) found smaller than n_clusters (70). Possibly due to duplicate points in X.\n",
      "  est = KMeans(\n",
      "/Users/josephhicks/opt/anaconda3/lib/python3.8/site-packages/sklearn/manifold/_spectral_embedding.py:245: UserWarning: Graph is not fully connected, spectral embedding may not work as expected.\n",
      "  warnings.warn(\"Graph is not fully connected, spectral embedding\"\n",
      "/Users/josephhicks/opt/anaconda3/lib/python3.8/site-packages/sklearn/cluster/_kmeans.py:289: ConvergenceWarning: Number of distinct clusters (4) found smaller than n_clusters (70). Possibly due to duplicate points in X.\n",
      "  est = KMeans(\n",
      "/Users/josephhicks/opt/anaconda3/lib/python3.8/site-packages/sklearn/manifold/_spectral_embedding.py:245: UserWarning: Graph is not fully connected, spectral embedding may not work as expected.\n",
      "  warnings.warn(\"Graph is not fully connected, spectral embedding\"\n",
      "/Users/josephhicks/opt/anaconda3/lib/python3.8/site-packages/sklearn/cluster/_kmeans.py:289: ConvergenceWarning: Number of distinct clusters (4) found smaller than n_clusters (90). Possibly due to duplicate points in X.\n",
      "  est = KMeans(\n",
      "/Users/josephhicks/opt/anaconda3/lib/python3.8/site-packages/sklearn/manifold/_spectral_embedding.py:245: UserWarning: Graph is not fully connected, spectral embedding may not work as expected.\n",
      "  warnings.warn(\"Graph is not fully connected, spectral embedding\"\n",
      "/Users/josephhicks/opt/anaconda3/lib/python3.8/site-packages/sklearn/cluster/_kmeans.py:289: ConvergenceWarning: Number of distinct clusters (5) found smaller than n_clusters (90). Possibly due to duplicate points in X.\n",
      "  est = KMeans(\n",
      "/Users/josephhicks/opt/anaconda3/lib/python3.8/site-packages/sklearn/manifold/_spectral_embedding.py:245: UserWarning: Graph is not fully connected, spectral embedding may not work as expected.\n",
      "  warnings.warn(\"Graph is not fully connected, spectral embedding\"\n",
      "/Users/josephhicks/opt/anaconda3/lib/python3.8/site-packages/sklearn/cluster/_kmeans.py:289: ConvergenceWarning: Number of distinct clusters (2) found smaller than n_clusters (5). Possibly due to duplicate points in X.\n",
      "  est = KMeans(\n",
      "/Users/josephhicks/opt/anaconda3/lib/python3.8/site-packages/sklearn/manifold/_spectral_embedding.py:245: UserWarning: Graph is not fully connected, spectral embedding may not work as expected.\n",
      "  warnings.warn(\"Graph is not fully connected, spectral embedding\"\n",
      "/Users/josephhicks/opt/anaconda3/lib/python3.8/site-packages/sklearn/cluster/_kmeans.py:289: ConvergenceWarning: Number of distinct clusters (4) found smaller than n_clusters (5). Possibly due to duplicate points in X.\n",
      "  est = KMeans(\n",
      "/Users/josephhicks/opt/anaconda3/lib/python3.8/site-packages/sklearn/manifold/_spectral_embedding.py:245: UserWarning: Graph is not fully connected, spectral embedding may not work as expected.\n",
      "  warnings.warn(\"Graph is not fully connected, spectral embedding\"\n",
      "/Users/josephhicks/opt/anaconda3/lib/python3.8/site-packages/sklearn/cluster/_kmeans.py:289: ConvergenceWarning: Number of distinct clusters (4) found smaller than n_clusters (20). Possibly due to duplicate points in X.\n",
      "  est = KMeans(\n",
      "/Users/josephhicks/opt/anaconda3/lib/python3.8/site-packages/sklearn/manifold/_spectral_embedding.py:245: UserWarning: Graph is not fully connected, spectral embedding may not work as expected.\n",
      "  warnings.warn(\"Graph is not fully connected, spectral embedding\"\n",
      "/Users/josephhicks/opt/anaconda3/lib/python3.8/site-packages/sklearn/cluster/_kmeans.py:289: ConvergenceWarning: Number of distinct clusters (4) found smaller than n_clusters (20). Possibly due to duplicate points in X.\n",
      "  est = KMeans(\n",
      "/Users/josephhicks/opt/anaconda3/lib/python3.8/site-packages/sklearn/manifold/_spectral_embedding.py:245: UserWarning: Graph is not fully connected, spectral embedding may not work as expected.\n",
      "  warnings.warn(\"Graph is not fully connected, spectral embedding\"\n",
      "/Users/josephhicks/opt/anaconda3/lib/python3.8/site-packages/sklearn/cluster/_kmeans.py:289: ConvergenceWarning: Number of distinct clusters (4) found smaller than n_clusters (70). Possibly due to duplicate points in X.\n",
      "  est = KMeans(\n",
      "/Users/josephhicks/opt/anaconda3/lib/python3.8/site-packages/sklearn/manifold/_spectral_embedding.py:245: UserWarning: Graph is not fully connected, spectral embedding may not work as expected.\n",
      "  warnings.warn(\"Graph is not fully connected, spectral embedding\"\n",
      "/Users/josephhicks/opt/anaconda3/lib/python3.8/site-packages/sklearn/cluster/_kmeans.py:289: ConvergenceWarning: Number of distinct clusters (4) found smaller than n_clusters (70). Possibly due to duplicate points in X.\n",
      "  est = KMeans(\n",
      "/Users/josephhicks/opt/anaconda3/lib/python3.8/site-packages/sklearn/manifold/_spectral_embedding.py:245: UserWarning: Graph is not fully connected, spectral embedding may not work as expected.\n",
      "  warnings.warn(\"Graph is not fully connected, spectral embedding\"\n",
      "/Users/josephhicks/opt/anaconda3/lib/python3.8/site-packages/sklearn/cluster/_kmeans.py:289: ConvergenceWarning: Number of distinct clusters (4) found smaller than n_clusters (90). Possibly due to duplicate points in X.\n",
      "  est = KMeans(\n",
      "/Users/josephhicks/opt/anaconda3/lib/python3.8/site-packages/sklearn/manifold/_spectral_embedding.py:245: UserWarning: Graph is not fully connected, spectral embedding may not work as expected.\n",
      "  warnings.warn(\"Graph is not fully connected, spectral embedding\"\n",
      "/Users/josephhicks/opt/anaconda3/lib/python3.8/site-packages/sklearn/cluster/_kmeans.py:289: ConvergenceWarning: Number of distinct clusters (5) found smaller than n_clusters (90). Possibly due to duplicate points in X.\n",
      "  est = KMeans(\n"
     ]
    }
   ],
   "source": [
    "best = spec_clustering_tuner(data=X_sc, n_clusters=[5, 20, 70, 90], \n",
    "                      gammas=[0.5, 1], n_inits=[5, 20], plot=False)"
   ]
  },
  {
   "cell_type": "code",
   "execution_count": 48,
   "id": "6343ef1f-ec3d-4e86-8210-f89e9fe92ffa",
   "metadata": {},
   "outputs": [
    {
     "data": {
      "text/plain": [
       "(0.5184634551759015,\n",
       " <bound method BaseEstimator.get_params of SpectralClustering(gamma=0.5, n_clusters=5, n_init=5, n_jobs=-1)>)"
      ]
     },
     "execution_count": 48,
     "metadata": {},
     "output_type": "execute_result"
    }
   ],
   "source": [
    "best"
   ]
  },
  {
   "cell_type": "markdown",
   "id": "17f1ec1a-7f94-4f28-a2b1-6ef71899bc36",
   "metadata": {},
   "source": [
    "Tuning this clustering model has led to an even greater improvement in silhouette score. This will be the model that I'll use for the recommendation engine."
   ]
  },
  {
   "cell_type": "markdown",
   "id": "088c0047-9c18-4dbe-84ba-4a315f8fee88",
   "metadata": {},
   "source": [
    "## Building the Recommendation System"
   ]
  },
  {
   "cell_type": "markdown",
   "id": "9e955397-6b04-46a9-9008-7f456f0ad653",
   "metadata": {},
   "source": [
    "To build this engine, I will use [this](https://towardsdatascience.com/build-your-own-clustering-based-recommendation-engine-in-15-minutes-bdddd591d394) blog on building recommender systems from clustering models. "
   ]
  },
  {
   "cell_type": "code",
   "execution_count": 4,
   "id": "8f2909fa-c67e-4935-8c2b-fba2e9c41914",
   "metadata": {},
   "outputs": [
    {
     "name": "stderr",
     "output_type": "stream",
     "text": [
      "/Users/josephhicks/opt/anaconda3/lib/python3.8/site-packages/sklearn/manifold/_spectral_embedding.py:245: UserWarning: Graph is not fully connected, spectral embedding may not work as expected.\n",
      "  warnings.warn(\"Graph is not fully connected, spectral embedding\"\n",
      "/Users/josephhicks/opt/anaconda3/lib/python3.8/site-packages/sklearn/cluster/_kmeans.py:289: ConvergenceWarning: Number of distinct clusters (4) found smaller than n_clusters (5). Possibly due to duplicate points in X.\n",
      "  est = KMeans(\n"
     ]
    },
    {
     "data": {
      "text/plain": [
       "SpectralClustering(gamma=0.5, n_clusters=5, n_init=5, n_jobs=-1)"
      ]
     },
     "execution_count": 4,
     "metadata": {},
     "output_type": "execute_result"
    }
   ],
   "source": [
    "# Build out the final model based on the best parameters found\n",
    "spec = SpectralClustering(gamma=0.5, n_clusters=5, n_init=5, n_jobs=-1)\n",
    "spec.fit(X_sc)"
   ]
  },
  {
   "cell_type": "code",
   "execution_count": 5,
   "id": "7caf51dc-3d07-4998-9a5a-ac1927060cfc",
   "metadata": {},
   "outputs": [
    {
     "data": {
      "text/plain": [
       "0.5184634551759015"
      ]
     },
     "execution_count": 5,
     "metadata": {},
     "output_type": "execute_result"
    }
   ],
   "source": [
    "silhouette_score(X_sc, spec.labels_)"
   ]
  },
  {
   "cell_type": "code",
   "execution_count": 32,
   "id": "925ca4d7-448f-4e0f-b360-50a6892953ba",
   "metadata": {},
   "outputs": [],
   "source": [
    "# Bring in the lists of features from the previous notebook to help sort through the X dataframe\n",
    "categorical_features = ['Category', 'Family', 'Growth_Habit', 'Native_Status',\n",
    "           'Active_Growth_Period', 'Fall_Conspicuous', 'Flower_Color',\n",
    "           'Flower_Conspicuous', 'Fruit_Conspicuous', 'Bloom_Period', 'Fire_Resistance']\n",
    "\n",
    "ordinal_features = ['Toxicity', 'Drought_Tolerance', 'Hedge_Tolerance',\n",
    "                   'Moisture_Use', 'Salinity_Tolerance', 'Shade_Tolerance', 'Growth_Rate', 'Lifespan']\n",
    "\n",
    "other_features = ['id', 'Scientific_Name_x', 'pH_Minimum', 'pH_Maximum',\n",
    "                      'Temperature_Minimum_F']"
   ]
  },
  {
   "cell_type": "code",
   "execution_count": 95,
   "id": "bde6fdba-1d18-44b3-a555-62591ba4c647",
   "metadata": {},
   "outputs": [],
   "source": [
    "# Now for a small sample user input - create a function to replicate the streamlit app\n",
    "def plant_input(df, neighbors):\n",
    "    # Create dummy entry to feed into the clustering model with the same columns as the cleaned dataset\n",
    "    dummy = {}\n",
    "    dummy['id'] = 42\n",
    "    dummy['Scientific_Name_x'] = 'sample'\n",
    "    \n",
    "    # Inputs for simple user-chosen features\n",
    "    dummy['Lifespan'] = input('Enter a lifespan')\n",
    "    dummy['Toxicity'] = input('Enter toxicity value')\n",
    "    dummy['Drought_Tolerance'] = input('Input drought tolerance')\n",
    "    dummy['Hedge_Tolerance'] = input('Enter desired hedge tolerance')\n",
    "    dummy['Moisture_Use'] = input('Enter desired moisture use')\n",
    "    \n",
    "    # Fill in the other columns with dummy values if they are not specified\n",
    "    for col in df.columns:\n",
    "        if col not in dummy.keys():\n",
    "            dummy[col] = np.nan\n",
    "\n",
    "    # Scale the dummy data and concat it to the whole dataset\n",
    "    df_d = pd.DataFrame(dummy, index=[0])\n",
    "    df_d.fillna(0, inplace=True)\n",
    "    data = df.append(df_d)\n",
    "    labels = data[['id', 'Scientific_Name_x']]\n",
    "    data.drop(columns=['id', 'Scientific_Name_x'], inplace=True)\n",
    "    data_sc = sc.transform(data)\n",
    "    \n",
    "    # Predict the labels of all of the data, including the dummy entry\n",
    "    spec.fit_predict(data_sc)\n",
    "    data['cluster'] = spec.labels_\n",
    "    out_cluster = spec.labels_[-1]\n",
    "    \n",
    "    # Recombine the data with the label features\n",
    "    data = pd.concat([data, labels], axis=1)\n",
    "    \n",
    "    # Filter down to the dummy entry and its nearest neighbors\n",
    "    output = data.loc[data['cluster'] == out_cluster]\n",
    "    \n",
    "    # Sample from the filtered dataset\n",
    "    return output[['id', 'Scientific_Name_x']].sample(neighbors)"
   ]
  },
  {
   "cell_type": "code",
   "execution_count": 96,
   "id": "1072ce7b-ee83-4899-ae8c-968b61c8a562",
   "metadata": {},
   "outputs": [
    {
     "name": "stdin",
     "output_type": "stream",
     "text": [
      "Enter a lifespan 3\n",
      "Enter toxicity value 0\n",
      "Input drought tolerance 1\n",
      "Enter desired hedge tolerance 1\n",
      "Enter desired moisture use 3\n"
     ]
    },
    {
     "name": "stderr",
     "output_type": "stream",
     "text": [
      "/Users/josephhicks/opt/anaconda3/lib/python3.8/site-packages/sklearn/manifold/_spectral_embedding.py:245: UserWarning: Graph is not fully connected, spectral embedding may not work as expected.\n",
      "  warnings.warn(\"Graph is not fully connected, spectral embedding\"\n",
      "/Users/josephhicks/opt/anaconda3/lib/python3.8/site-packages/sklearn/cluster/_kmeans.py:289: ConvergenceWarning: Number of distinct clusters (5) found smaller than n_clusters (70). Possibly due to duplicate points in X.\n",
      "  est = KMeans(\n"
     ]
    },
    {
     "data": {
      "text/html": [
       "<div>\n",
       "<style scoped>\n",
       "    .dataframe tbody tr th:only-of-type {\n",
       "        vertical-align: middle;\n",
       "    }\n",
       "\n",
       "    .dataframe tbody tr th {\n",
       "        vertical-align: top;\n",
       "    }\n",
       "\n",
       "    .dataframe thead th {\n",
       "        text-align: right;\n",
       "    }\n",
       "</style>\n",
       "<table border=\"1\" class=\"dataframe\">\n",
       "  <thead>\n",
       "    <tr style=\"text-align: right;\">\n",
       "      <th></th>\n",
       "      <th>id</th>\n",
       "      <th>Scientific_Name_x</th>\n",
       "    </tr>\n",
       "  </thead>\n",
       "  <tbody>\n",
       "    <tr>\n",
       "      <th>673</th>\n",
       "      <td>54390</td>\n",
       "      <td>Melica californica Scribn.</td>\n",
       "    </tr>\n",
       "    <tr>\n",
       "      <th>745</th>\n",
       "      <td>62519</td>\n",
       "      <td>Panicum virgatum L.</td>\n",
       "    </tr>\n",
       "    <tr>\n",
       "      <th>35</th>\n",
       "      <td>1641</td>\n",
       "      <td>Agrostis capillaris L.</td>\n",
       "    </tr>\n",
       "    <tr>\n",
       "      <th>44</th>\n",
       "      <td>1948</td>\n",
       "      <td>Agastache parvifolia Eastw.</td>\n",
       "    </tr>\n",
       "    <tr>\n",
       "      <th>969</th>\n",
       "      <td>79947</td>\n",
       "      <td>Setaria italica (L.) P. Beauv.</td>\n",
       "    </tr>\n",
       "    <tr>\n",
       "      <th>575</th>\n",
       "      <td>45788</td>\n",
       "      <td>Juniperus osteosperma (Torr.) Little</td>\n",
       "    </tr>\n",
       "    <tr>\n",
       "      <th>623</th>\n",
       "      <td>50121</td>\n",
       "      <td>Ligustrum ovalifolium Hassk.</td>\n",
       "    </tr>\n",
       "    <tr>\n",
       "      <th>596</th>\n",
       "      <td>46452</td>\n",
       "      <td>Lavatera assurgentiflora Kellogg</td>\n",
       "    </tr>\n",
       "    <tr>\n",
       "      <th>357</th>\n",
       "      <td>22299</td>\n",
       "      <td>Corylus cornuta Marshall</td>\n",
       "    </tr>\n",
       "    <tr>\n",
       "      <th>868</th>\n",
       "      <td>72365</td>\n",
       "      <td>Quercus laevis Walter</td>\n",
       "    </tr>\n",
       "  </tbody>\n",
       "</table>\n",
       "</div>"
      ],
      "text/plain": [
       "        id                     Scientific_Name_x\n",
       "673  54390            Melica californica Scribn.\n",
       "745  62519                   Panicum virgatum L.\n",
       "35    1641                Agrostis capillaris L.\n",
       "44    1948           Agastache parvifolia Eastw.\n",
       "969  79947        Setaria italica (L.) P. Beauv.\n",
       "575  45788  Juniperus osteosperma (Torr.) Little\n",
       "623  50121          Ligustrum ovalifolium Hassk.\n",
       "596  46452      Lavatera assurgentiflora Kellogg\n",
       "357  22299              Corylus cornuta Marshall\n",
       "868  72365                 Quercus laevis Walter"
      ]
     },
     "execution_count": 96,
     "metadata": {},
     "output_type": "execute_result"
    }
   ],
   "source": [
    "plant_input(df, 10)"
   ]
  },
  {
   "cell_type": "markdown",
   "id": "c046e8fc-b400-4ec0-a853-e4701115cd20",
   "metadata": {},
   "source": [
    "The function above is just a simple proof of concept, but it is an effective proof of concept. Since the query was not very detailed, the suggestions the model made here don't make a lot of sense. In the final version of this model, however, users will be able to make much more precise queries to narrow down their searches. To see this in action, make sure to look at [this script](./plant_recommender.py). This script, `plant_recommender.py`, runs using `streamlit` [(*source*)](https://streamlit.io/)."
   ]
  }
 ],
 "metadata": {
  "kernelspec": {
   "display_name": "Python 3",
   "language": "python",
   "name": "python3"
  },
  "language_info": {
   "codemirror_mode": {
    "name": "ipython",
    "version": 3
   },
   "file_extension": ".py",
   "mimetype": "text/x-python",
   "name": "python",
   "nbconvert_exporter": "python",
   "pygments_lexer": "ipython3",
   "version": "3.8.8"
  }
 },
 "nbformat": 4,
 "nbformat_minor": 5
}
